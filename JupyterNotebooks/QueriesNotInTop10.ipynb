{
 "metadata": {
  "language_info": {
   "codemirror_mode": {
    "name": "ipython",
    "version": 3
   },
   "file_extension": ".py",
   "mimetype": "text/x-python",
   "name": "python",
   "nbconvert_exporter": "python",
   "pygments_lexer": "ipython3",
   "version": "3.9.4"
  },
  "orig_nbformat": 2,
  "kernelspec": {
   "name": "python394jvsc74a57bd0d16588db4783c97ae125afcc932252d198364f4e37e68a09b40465d6a093af64",
   "display_name": "Python 3.9.4 64-bit"
  },
  "metadata": {
   "interpreter": {
    "hash": "d16588db4783c97ae125afcc932252d198364f4e37e68a09b40465d6a093af64"
   }
  }
 },
 "nbformat": 4,
 "nbformat_minor": 2,
 "cells": [
  {
   "cell_type": "code",
   "execution_count": 1,
   "metadata": {},
   "outputs": [],
   "source": [
    "from azure.cosmos import CosmosClient, PartitionKey, exceptions"
   ]
  },
  {
   "cell_type": "code",
   "execution_count": 2,
   "metadata": {},
   "outputs": [],
   "source": [
    "from azure.cli.core import get_default_cli\n",
    "\n",
    "def az_cli (args_str):\n",
    "    args = args_str.split()\n",
    "    cli = get_default_cli()\n",
    "    cli.invoke(args)\n",
    "    if cli.result.result:\n",
    "        return cli.result.result\n",
    "    elif cli.result.error:\n",
    "        raise cli.result.error\n",
    "    return True"
   ]
  },
  {
   "cell_type": "code",
   "execution_count": 3,
   "metadata": {},
   "outputs": [
    {
     "output_type": "stream",
     "name": "stdout",
     "text": [
      "https://seobot-dev-cosmos.documents.azure.com:443/\n",
      "NROrQMOzdTLXvUNMUFRGvys50Wxsj948HAn1HRyy4H6EF8GOGazfKZE3Nef7y0NRVcj0fNF9vvnC3Stw9I8iRQ==\n"
     ]
    }
   ],
   "source": [
    "RES_GROUP='seobot-resources-dev'\n",
    "ACCT_NAME='seobot-dev-cosmos'\n",
    "\n",
    "args = \"cosmosdb show --resource-group {} --name {} --query documentEndpoint --output tsv\".format(RES_GROUP, ACCT_NAME)\n",
    "ACCOUNT_URI = az_cli(args)\n",
    "args = \"cosmosdb keys list --resource-group {} --name {} --query \\\"primaryMasterKey\\\" --output tsv\".format(RES_GROUP, ACCT_NAME)\n",
    "ACCOUNT_KEY = az_cli(args)"
   ]
  },
  {
   "cell_type": "code",
   "execution_count": 4,
   "metadata": {},
   "outputs": [],
   "source": [
    "client = CosmosClient(ACCOUNT_URI, {'masterKey': ACCOUNT_KEY})"
   ]
  },
  {
   "cell_type": "code",
   "execution_count": 5,
   "metadata": {},
   "outputs": [
    {
     "output_type": "stream",
     "name": "stdout",
     "text": [
      "Got database seo-stats\nGot container search_stats\n"
     ]
    }
   ],
   "source": [
    "database_name = 'seo-stats'\n",
    "container_name = 'search_stats'\n",
    "database = client.get_database_client(database_name)\n",
    "print(\"Got database {}\".format(database_name))\n",
    "container = database.get_container_client(container_name)\n",
    "print(\"Got container {}\".format(container_name))"
   ]
  },
  {
   "cell_type": "code",
   "execution_count": 6,
   "metadata": {},
   "outputs": [
    {
     "output_type": "stream",
     "name": "stdout",
     "text": [
      "Container with id 'search_stats' contains '1182' items\n"
     ]
    }
   ],
   "source": [
    "## Run a query against the container to see number of documents\n",
    "query = 'SELECT VALUE COUNT(1) FROM c'\n",
    "result = list(container.query_items(query, enable_cross_partition_query=True))\n",
    "\n",
    "print('Container with id \\'{0}\\' contains \\'{1}\\' items'.format(container.id, result[0]))"
   ]
  },
  {
   "cell_type": "code",
   "execution_count": 7,
   "metadata": {
    "tags": []
   },
   "outputs": [],
   "source": [
    "query = 'SELECT c.searchDate, c.queryString, c.resultPage FROM c WHERE c.resultPage < 0'\n",
    "result = list(container.query_items(query, enable_cross_partition_query=True))"
   ]
  },
  {
   "cell_type": "code",
   "execution_count": 8,
   "metadata": {},
   "outputs": [
    {
     "output_type": "execute_result",
     "data": {
      "text/plain": [
       "                     searchDate                   queryString  resultPage\n",
       "0   2021-04-08T00:03:59.686345Z  INJECTION THERAPY palm beach          -1\n",
       "1  2021-04-08T00:18:22.4428872Z  INJECTION THERAPY palm beach          -1\n",
       "2  2021-04-08T00:23:26.4380766Z                Medical clinic          -1\n",
       "3  2021-04-08T00:24:23.3603504Z          Functional nutrition          -1\n",
       "4   2021-04-08T00:25:26.282078Z  led light therapy palm beach          -1\n",
       "5  2021-04-08T00:26:42.6456092Z          Functional nutrition          -1\n",
       "6  2021-04-08T00:29:32.4457705Z                  Fibromyalgia          -1\n",
       "7  2021-04-08T00:30:26.6129885Z                Medical clinic          -1\n",
       "8  2021-04-08T00:31:31.4310396Z                     Back pain          -1\n",
       "9  2021-04-08T00:32:22.4366959Z  INJECTION THERAPY palm beach          -1"
      ],
      "text/html": "<div>\n<style scoped>\n    .dataframe tbody tr th:only-of-type {\n        vertical-align: middle;\n    }\n\n    .dataframe tbody tr th {\n        vertical-align: top;\n    }\n\n    .dataframe thead th {\n        text-align: right;\n    }\n</style>\n<table border=\"1\" class=\"dataframe\">\n  <thead>\n    <tr style=\"text-align: right;\">\n      <th></th>\n      <th>searchDate</th>\n      <th>queryString</th>\n      <th>resultPage</th>\n    </tr>\n  </thead>\n  <tbody>\n    <tr>\n      <th>0</th>\n      <td>2021-04-08T00:03:59.686345Z</td>\n      <td>INJECTION THERAPY palm beach</td>\n      <td>-1</td>\n    </tr>\n    <tr>\n      <th>1</th>\n      <td>2021-04-08T00:18:22.4428872Z</td>\n      <td>INJECTION THERAPY palm beach</td>\n      <td>-1</td>\n    </tr>\n    <tr>\n      <th>2</th>\n      <td>2021-04-08T00:23:26.4380766Z</td>\n      <td>Medical clinic</td>\n      <td>-1</td>\n    </tr>\n    <tr>\n      <th>3</th>\n      <td>2021-04-08T00:24:23.3603504Z</td>\n      <td>Functional nutrition</td>\n      <td>-1</td>\n    </tr>\n    <tr>\n      <th>4</th>\n      <td>2021-04-08T00:25:26.282078Z</td>\n      <td>led light therapy palm beach</td>\n      <td>-1</td>\n    </tr>\n    <tr>\n      <th>5</th>\n      <td>2021-04-08T00:26:42.6456092Z</td>\n      <td>Functional nutrition</td>\n      <td>-1</td>\n    </tr>\n    <tr>\n      <th>6</th>\n      <td>2021-04-08T00:29:32.4457705Z</td>\n      <td>Fibromyalgia</td>\n      <td>-1</td>\n    </tr>\n    <tr>\n      <th>7</th>\n      <td>2021-04-08T00:30:26.6129885Z</td>\n      <td>Medical clinic</td>\n      <td>-1</td>\n    </tr>\n    <tr>\n      <th>8</th>\n      <td>2021-04-08T00:31:31.4310396Z</td>\n      <td>Back pain</td>\n      <td>-1</td>\n    </tr>\n    <tr>\n      <th>9</th>\n      <td>2021-04-08T00:32:22.4366959Z</td>\n      <td>INJECTION THERAPY palm beach</td>\n      <td>-1</td>\n    </tr>\n  </tbody>\n</table>\n</div>"
     },
     "metadata": {},
     "execution_count": 8
    }
   ],
   "source": [
    "import pandas as pd\n",
    "df_cosmos = pd.DataFrame(result)\n",
    "# Sample the top 10 results\n",
    "df_cosmos.head(10)"
   ]
  },
  {
   "source": [
    "## Mean Page Results Over All Time"
   ],
   "cell_type": "markdown",
   "metadata": {}
  },
  {
   "cell_type": "code",
   "execution_count": 9,
   "metadata": {},
   "outputs": [
    {
     "output_type": "display_data",
     "data": {
      "text/plain": "                     queryString  resultPage\n0                    Acupressure          -1\n1                    Acupuncture          -1\n2                      Back pain          -1\n3               Back pain relief          -1\n4                   Fibromyalgia          -1\n5            Functional medicine          -1\n6           Functional nutrition          -1\n7             Gua Sha palm beach          -1\n8       HYPNOBIRTHING palm beach          -1\n9              Health assessment          -1\n10  INJECTION THERAPY palm beach          -1\n11                    IV therapy          -1\n12                     Injection          -1\n13          Integrative medicine          -1\n14           Integrative therapy          -1\n15                Medical clinic          -1\n16        Moxibustion palm beach          -1\n17                     Neck pain          -1\n18                     Nutrition          -1\n19            Nutritional health          -1\n20                   Pain relief          -1\n21         Shoni Shin palm beach          -1\n22        chaas gantt acupunture          -1\n23     e stim therapy palm beach          -1\n24     e-stim therapy palm beach          -1\n25      laser therapy palm beach          -1\n26  led light therapy palm beach          -1\n27        palm beach acupuncture          -1",
      "text/html": "<div>\n<style scoped>\n    .dataframe tbody tr th:only-of-type {\n        vertical-align: middle;\n    }\n\n    .dataframe tbody tr th {\n        vertical-align: top;\n    }\n\n    .dataframe thead th {\n        text-align: right;\n    }\n</style>\n<table border=\"1\" class=\"dataframe\">\n  <thead>\n    <tr style=\"text-align: right;\">\n      <th></th>\n      <th>queryString</th>\n      <th>resultPage</th>\n    </tr>\n  </thead>\n  <tbody>\n    <tr>\n      <th>0</th>\n      <td>Acupressure</td>\n      <td>-1</td>\n    </tr>\n    <tr>\n      <th>1</th>\n      <td>Acupuncture</td>\n      <td>-1</td>\n    </tr>\n    <tr>\n      <th>2</th>\n      <td>Back pain</td>\n      <td>-1</td>\n    </tr>\n    <tr>\n      <th>3</th>\n      <td>Back pain relief</td>\n      <td>-1</td>\n    </tr>\n    <tr>\n      <th>4</th>\n      <td>Fibromyalgia</td>\n      <td>-1</td>\n    </tr>\n    <tr>\n      <th>5</th>\n      <td>Functional medicine</td>\n      <td>-1</td>\n    </tr>\n    <tr>\n      <th>6</th>\n      <td>Functional nutrition</td>\n      <td>-1</td>\n    </tr>\n    <tr>\n      <th>7</th>\n      <td>Gua Sha palm beach</td>\n      <td>-1</td>\n    </tr>\n    <tr>\n      <th>8</th>\n      <td>HYPNOBIRTHING palm beach</td>\n      <td>-1</td>\n    </tr>\n    <tr>\n      <th>9</th>\n      <td>Health assessment</td>\n      <td>-1</td>\n    </tr>\n    <tr>\n      <th>10</th>\n      <td>INJECTION THERAPY palm beach</td>\n      <td>-1</td>\n    </tr>\n    <tr>\n      <th>11</th>\n      <td>IV therapy</td>\n      <td>-1</td>\n    </tr>\n    <tr>\n      <th>12</th>\n      <td>Injection</td>\n      <td>-1</td>\n    </tr>\n    <tr>\n      <th>13</th>\n      <td>Integrative medicine</td>\n      <td>-1</td>\n    </tr>\n    <tr>\n      <th>14</th>\n      <td>Integrative therapy</td>\n      <td>-1</td>\n    </tr>\n    <tr>\n      <th>15</th>\n      <td>Medical clinic</td>\n      <td>-1</td>\n    </tr>\n    <tr>\n      <th>16</th>\n      <td>Moxibustion palm beach</td>\n      <td>-1</td>\n    </tr>\n    <tr>\n      <th>17</th>\n      <td>Neck pain</td>\n      <td>-1</td>\n    </tr>\n    <tr>\n      <th>18</th>\n      <td>Nutrition</td>\n      <td>-1</td>\n    </tr>\n    <tr>\n      <th>19</th>\n      <td>Nutritional health</td>\n      <td>-1</td>\n    </tr>\n    <tr>\n      <th>20</th>\n      <td>Pain relief</td>\n      <td>-1</td>\n    </tr>\n    <tr>\n      <th>21</th>\n      <td>Shoni Shin palm beach</td>\n      <td>-1</td>\n    </tr>\n    <tr>\n      <th>22</th>\n      <td>chaas gantt acupunture</td>\n      <td>-1</td>\n    </tr>\n    <tr>\n      <th>23</th>\n      <td>e stim therapy palm beach</td>\n      <td>-1</td>\n    </tr>\n    <tr>\n      <th>24</th>\n      <td>e-stim therapy palm beach</td>\n      <td>-1</td>\n    </tr>\n    <tr>\n      <th>25</th>\n      <td>laser therapy palm beach</td>\n      <td>-1</td>\n    </tr>\n    <tr>\n      <th>26</th>\n      <td>led light therapy palm beach</td>\n      <td>-1</td>\n    </tr>\n    <tr>\n      <th>27</th>\n      <td>palm beach acupuncture</td>\n      <td>-1</td>\n    </tr>\n  </tbody>\n</table>\n</div>"
     },
     "metadata": {}
    }
   ],
   "source": [
    "df_rank = df_cosmos.groupby(\"queryString\").mean().reset_index()\n",
    "display(df_rank)"
   ]
  },
  {
   "cell_type": "code",
   "execution_count": null,
   "metadata": {},
   "outputs": [],
   "source": []
  }
 ]
}